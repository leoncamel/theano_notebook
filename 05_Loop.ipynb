{
 "cells": [
  {
   "cell_type": "markdown",
   "metadata": {
    "ein.tags": [
     "worksheet-0"
    ]
   },
   "source": [
    "# Loop"
   ]
  },
  {
   "cell_type": "markdown",
   "metadata": {
    "ein.tags": [
     "worksheet-0"
    ]
   },
   "source": [
    "## Scan\n",
    "\n",
    "Scan Example: Computing tanh(x(t).dot(W) + b) elementwise"
   ]
  },
  {
   "cell_type": "code",
   "execution_count": 1,
   "metadata": {
    "autoscroll": "json-false",
    "collapsed": false,
    "ein.tags": [
     "worksheet-0"
    ]
   },
   "outputs": [
    {
     "name": "stdout",
     "output_type": "stream",
     "text": [
      "[[ 0.96402758  0.99505475]\n",
      " [ 0.96402758  0.99505475]]\n",
      "[[ 0.96402758  0.99505475]\n",
      " [ 0.96402758  0.99505475]]\n"
     ]
    }
   ],
   "source": [
    "import theano\n",
    "import theano.tensor as T\n",
    "import numpy as np\n",
    "\n",
    "# defining the tensor variables\n",
    "X = T.matrix(\"X\")\n",
    "W = T.matrix(\"W\")\n",
    "b_sym = T.vector(\"b_sym\")\n",
    "\n",
    "results, updates = theano.scan(lambda v: T.tanh(T.dot(v, W) + b_sym), sequences=X)\n",
    "compute_elementwise = theano.function(inputs=[X, W, b_sym], outputs=results)\n",
    "\n",
    "# test values\n",
    "x = np.eye(2, dtype=theano.config.floatX)\n",
    "w = np.ones((2, 2), dtype=theano.config.floatX)\n",
    "b = np.ones((2), dtype=theano.config.floatX)\n",
    "b[1] = 2\n",
    "\n",
    "print(compute_elementwise(x, w, b))\n",
    "\n",
    "# comparison with numpy\n",
    "print(np.tanh(x.dot(w) + b))"
   ]
  },
  {
   "cell_type": "markdown",
   "metadata": {
    "ein.tags": [
     "worksheet-0"
    ]
   },
   "source": [
    "Scan Example: Computing the sequence x(t) = tanh(x(t-1).dot(W) + y(t).dot(U) + p(T-t).dot(V))"
   ]
  },
  {
   "cell_type": "code",
   "execution_count": 2,
   "metadata": {
    "autoscroll": "json-false",
    "collapsed": false,
    "ein.tags": [
     "worksheet-0"
    ]
   },
   "outputs": [
    {
     "name": "stdout",
     "output_type": "stream",
     "text": [
      "[[-0.99505475 -0.99505475]\n",
      " [ 0.96471973  0.96471973]\n",
      " [ 0.99998585  0.99998585]\n",
      " [ 0.99998771  0.99998771]\n",
      " [ 1.          1.        ]]\n",
      "[[-0.99505475 -0.99505475]\n",
      " [ 0.96471973  0.96471973]\n",
      " [ 0.99998585  0.99998585]\n",
      " [ 0.99998771  0.99998771]\n",
      " [ 1.          1.        ]]\n"
     ]
    }
   ],
   "source": [
    "import theano\n",
    "import theano.tensor as T\n",
    "import numpy as np\n",
    "\n",
    "# define tensor variables\n",
    "X = T.vector(\"X\")\n",
    "W = T.matrix(\"W\")\n",
    "b_sym = T.vector(\"b_sym\")\n",
    "U = T.matrix(\"U\")\n",
    "Y = T.matrix(\"Y\")\n",
    "V = T.matrix(\"V\")\n",
    "P = T.matrix(\"P\")\n",
    "\n",
    "results, updates = theano.scan(lambda y, p, x_tm1: T.tanh(T.dot(x_tm1, W) + T.dot(y, U) + T.dot(p, V)),\n",
    "          sequences=[Y, P[::-1]], outputs_info=[X])\n",
    "compute_seq = theano.function(inputs=[X, W, Y, U, P, V], outputs=results)\n",
    "\n",
    "# test values\n",
    "x = np.zeros((2), dtype=theano.config.floatX)\n",
    "x[1] = 1\n",
    "w = np.ones((2, 2), dtype=theano.config.floatX)\n",
    "y = np.ones((5, 2), dtype=theano.config.floatX)\n",
    "y[0, :] = -3\n",
    "u = np.ones((2, 2), dtype=theano.config.floatX)\n",
    "p = np.ones((5, 2), dtype=theano.config.floatX)\n",
    "p[0, :] = 3\n",
    "v = np.ones((2, 2), dtype=theano.config.floatX)\n",
    "\n",
    "print(compute_seq(x, w, y, u, p, v))\n",
    "\n",
    "# comparison with numpy\n",
    "x_res = np.zeros((5, 2), dtype=theano.config.floatX)\n",
    "x_res[0] = np.tanh(x.dot(w) + y[0].dot(u) + p[4].dot(v))\n",
    "for i in range(1, 5):\n",
    "    x_res[i] = np.tanh(x_res[i - 1].dot(w) + y[i].dot(u) + p[4-i].dot(v))\n",
    "print(x_res)"
   ]
  },
  {
   "cell_type": "markdown",
   "metadata": {
    "ein.tags": [
     "worksheet-0"
    ]
   },
   "source": [
    "Scan Example: Computing norms of lines of X"
   ]
  },
  {
   "cell_type": "code",
   "execution_count": 3,
   "metadata": {
    "autoscroll": "json-false",
    "collapsed": false,
    "ein.tags": [
     "worksheet-0"
    ]
   },
   "outputs": [
    {
     "name": "stdout",
     "output_type": "stream",
     "text": [
      "[ 1.  2.  3.  4.  5.  0.]\n",
      "[ 1.  2.  3.  4.  5.  0.]\n"
     ]
    }
   ],
   "source": [
    "import theano\n",
    "import theano.tensor as T\n",
    "import numpy as np\n",
    "\n",
    "# define tensor variable\n",
    "X = T.matrix(\"X\")\n",
    "results, updates = theano.scan(lambda x_i: T.sqrt((x_i ** 2).sum()), sequences=[X])\n",
    "compute_norm_lines = theano.function(inputs=[X], outputs=results)\n",
    "\n",
    "# test value\n",
    "x = np.diag(np.arange(1, 6, dtype=theano.config.floatX), 1)\n",
    "print(compute_norm_lines(x))\n",
    "\n",
    "# comparison with numpy\n",
    "print(np.sqrt((x ** 2).sum(1)))"
   ]
  },
  {
   "cell_type": "markdown",
   "metadata": {
    "ein.tags": [
     "worksheet-0"
    ]
   },
   "source": [
    "Scan Example: Computing norms of columns of X"
   ]
  },
  {
   "cell_type": "code",
   "execution_count": 4,
   "metadata": {
    "autoscroll": "json-false",
    "collapsed": false,
    "ein.tags": [
     "worksheet-0"
    ]
   },
   "outputs": [
    {
     "name": "stdout",
     "output_type": "stream",
     "text": [
      "[ 0.  1.  2.  3.  4.  5.]\n",
      "[ 0.  1.  2.  3.  4.  5.]\n"
     ]
    }
   ],
   "source": [
    "import theano\n",
    "import theano.tensor as T\n",
    "import numpy as np\n",
    "\n",
    "# define tensor variable\n",
    "X = T.matrix(\"X\")\n",
    "results, updates = theano.scan(lambda x_i: T.sqrt((x_i ** 2).sum()), sequences=[X.T])\n",
    "compute_norm_cols = theano.function(inputs=[X], outputs=results)\n",
    "\n",
    "# test value\n",
    "x = np.diag(np.arange(1, 6, dtype=theano.config.floatX), 1)\n",
    "print(compute_norm_cols(x))\n",
    "\n",
    "# comparison with numpy\n",
    "print(np.sqrt((x ** 2).sum(0)))"
   ]
  },
  {
   "cell_type": "markdown",
   "metadata": {
    "ein.tags": [
     "worksheet-0"
    ]
   },
   "source": [
    "Scan Example: Computing trace of X"
   ]
  },
  {
   "cell_type": "code",
   "execution_count": 5,
   "metadata": {
    "autoscroll": "json-false",
    "collapsed": false,
    "ein.tags": [
     "worksheet-0"
    ]
   },
   "outputs": [
    {
     "name": "stdout",
     "output_type": "stream",
     "text": [
      "4.0\n",
      "4.0\n"
     ]
    }
   ],
   "source": [
    "import theano\n",
    "import theano.tensor as T\n",
    "import numpy as np\n",
    "floatX = \"float32\"\n",
    "\n",
    "# define tensor variable\n",
    "X = T.matrix(\"X\")\n",
    "results, updates = theano.scan(lambda i, j, t_f: T.cast(X[i, j] + t_f, floatX),\n",
    "                  sequences=[T.arange(X.shape[0]), T.arange(X.shape[1])],\n",
    "                  outputs_info=np.asarray(0., dtype=floatX))\n",
    "result = results[-1]\n",
    "compute_trace = theano.function(inputs=[X], outputs=result)\n",
    "\n",
    "# test value\n",
    "x = np.eye(5, dtype=theano.config.floatX)\n",
    "x[0] = np.arange(5, dtype=theano.config.floatX)\n",
    "print(compute_trace(x))\n",
    "\n",
    "# comparison with numpy\n",
    "print(np.diagonal(x).sum())"
   ]
  },
  {
   "cell_type": "markdown",
   "metadata": {
    "ein.tags": [
     "worksheet-0"
    ]
   },
   "source": [
    "Scan Example: Computing the sequence x(t) = x(t - 2).dot(U) + x(t - 1).dot(V) + tanh(x(t - 1).dot(W) + b)"
   ]
  },
  {
   "cell_type": "code",
   "execution_count": 6,
   "metadata": {
    "autoscroll": "json-false",
    "collapsed": false,
    "ein.tags": [
     "worksheet-0"
    ]
   },
   "outputs": [
    {
     "name": "stdout",
     "output_type": "stream",
     "text": [
      "[[  1.40514825   1.40514825]\n",
      " [  2.88898899   2.38898899]\n",
      " [  4.34018291   4.34018291]\n",
      " [  6.53463142   6.78463142]\n",
      " [  9.82972243   9.82972243]\n",
      " [ 14.22203814  14.09703814]\n",
      " [ 20.07439936  20.07439936]\n",
      " [ 28.12291843  28.18541843]\n",
      " [ 39.1913681   39.1913681 ]\n",
      " [ 54.28407732  54.25282732]]\n",
      "[[  1.40514825   1.40514825]\n",
      " [  2.88898899   2.38898899]\n",
      " [  4.34018291   4.34018291]\n",
      " [  6.53463142   6.78463142]\n",
      " [  9.82972243   9.82972243]\n",
      " [ 14.22203814  14.09703814]\n",
      " [ 20.07439936  20.07439936]\n",
      " [ 28.12291843  28.18541843]\n",
      " [ 39.1913681   39.1913681 ]\n",
      " [ 54.28407732  54.25282732]]\n"
     ]
    }
   ],
   "source": [
    "import theano\n",
    "import theano.tensor as T\n",
    "import numpy as np\n",
    "\n",
    "# define tensor variables\n",
    "X = T.matrix(\"X\")\n",
    "W = T.matrix(\"W\")\n",
    "b_sym = T.vector(\"b_sym\")\n",
    "U = T.matrix(\"U\")\n",
    "V = T.matrix(\"V\")\n",
    "n_sym = T.iscalar(\"n_sym\")\n",
    "\n",
    "results, updates = theano.scan(lambda x_tm2, x_tm1: T.dot(x_tm2, U) + T.dot(x_tm1, V) + T.tanh(T.dot(x_tm1, W) + b_sym),\n",
    "                    n_steps=n_sym, outputs_info=[dict(initial=X, taps=[-2, -1])])\n",
    "compute_seq2 = theano.function(inputs=[X, U, V, W, b_sym, n_sym], outputs=results)\n",
    "\n",
    "# test values\n",
    "x = np.zeros((2, 2), dtype=theano.config.floatX) # the initial value must be able to return x[-2]\n",
    "x[1, 1] = 1\n",
    "w = 0.5 * np.ones((2, 2), dtype=theano.config.floatX)\n",
    "u = 0.5 * (np.ones((2, 2), dtype=theano.config.floatX) - np.eye(2, dtype=theano.config.floatX))\n",
    "v = 0.5 * np.ones((2, 2), dtype=theano.config.floatX)\n",
    "n = 10\n",
    "b = np.ones((2), dtype=theano.config.floatX)\n",
    "\n",
    "print(compute_seq2(x, u, v, w, b, n))\n",
    "\n",
    "# comparison with numpy\n",
    "x_res = np.zeros((10, 2))\n",
    "x_res[0] = x[0].dot(u) + x[1].dot(v) + np.tanh(x[1].dot(w) + b)\n",
    "x_res[1] = x[1].dot(u) + x_res[0].dot(v) + np.tanh(x_res[0].dot(w) + b)\n",
    "x_res[2] = x_res[0].dot(u) + x_res[1].dot(v) + np.tanh(x_res[1].dot(w) + b)\n",
    "for i in range(2, 10):\n",
    "    x_res[i] = (x_res[i - 2].dot(u) + x_res[i - 1].dot(v) +\n",
    "                np.tanh(x_res[i - 1].dot(w) + b))\n",
    "print(x_res)"
   ]
  },
  {
   "cell_type": "markdown",
   "metadata": {
    "ein.tags": [
     "worksheet-0"
    ]
   },
   "source": [
    "Scan Example: Computing the Jacobian of y = tanh(v.dot(A)) wrt x"
   ]
  },
  {
   "cell_type": "code",
   "execution_count": 7,
   "metadata": {
    "autoscroll": "json-false",
    "collapsed": false,
    "ein.tags": [
     "worksheet-0"
    ]
   },
   "outputs": [
    {
     "name": "stdout",
     "output_type": "stream",
     "text": [
      "[[ 0.41997434  0.          0.41997434  0.          0.        ]\n",
      " [ 0.          1.          1.          0.          0.        ]\n",
      " [ 0.          0.          1.          0.          0.        ]]\n",
      "[[ 0.41997434  0.          0.41997434  0.          0.        ]\n",
      " [ 0.          1.          1.          0.          0.        ]\n",
      " [ 0.          0.          1.          0.          0.        ]]\n"
     ]
    }
   ],
   "source": [
    "import theano\n",
    "import theano.tensor as T\n",
    "import numpy as np\n",
    "\n",
    "# define tensor variables\n",
    "v = T.vector()\n",
    "A = T.matrix()\n",
    "y = T.tanh(T.dot(v, A))\n",
    "results, updates = theano.scan(lambda i: T.grad(y[i], v), sequences=[T.arange(y.shape[0])])\n",
    "compute_jac_t = theano.function([A, v], results, allow_input_downcast=True) # shape (d_out, d_in)\n",
    "\n",
    "# test values\n",
    "x = np.eye(5, dtype=theano.config.floatX)[0]\n",
    "w = np.eye(5, 3, dtype=theano.config.floatX)\n",
    "w[2] = np.ones((3), dtype=theano.config.floatX)\n",
    "print(compute_jac_t(w, x))\n",
    "\n",
    "# compare with numpy\n",
    "print(((1 - np.tanh(x.dot(w)) ** 2) * w).T)"
   ]
  },
  {
   "cell_type": "markdown",
   "metadata": {
    "ein.tags": [
     "worksheet-0"
    ]
   },
   "source": [
    "Scan Example: Accumulate number of loop during a scan"
   ]
  },
  {
   "cell_type": "code",
   "execution_count": 8,
   "metadata": {
    "autoscroll": "json-false",
    "collapsed": false,
    "ein.tags": [
     "worksheet-0"
    ]
   },
   "outputs": [
    {
     "data": {
      "text/plain": [
       "array(5)"
      ]
     },
     "execution_count": 8,
     "metadata": {},
     "output_type": "execute_result"
    }
   ],
   "source": [
    "import theano\n",
    "import theano.tensor as T\n",
    "import numpy as np\n",
    "\n",
    "# define shared variables\n",
    "k = theano.shared(0)\n",
    "n_sym = T.iscalar(\"n_sym\")\n",
    "\n",
    "results, updates = theano.scan(lambda:{k:(k + 1)}, n_steps=n_sym)\n",
    "accumulator = theano.function([n_sym], [], updates=updates, allow_input_downcast=True)\n",
    "\n",
    "k.get_value()\n",
    "accumulator(5)\n",
    "k.get_value()"
   ]
  },
  {
   "cell_type": "markdown",
   "metadata": {
    "ein.tags": [
     "worksheet-0"
    ]
   },
   "source": [
    "Scan Example: Computing tanh(v.dot(W) + b) * d where d is binomial"
   ]
  },
  {
   "cell_type": "code",
   "execution_count": 9,
   "metadata": {
    "autoscroll": "json-false",
    "collapsed": false,
    "ein.tags": [
     "worksheet-0"
    ]
   },
   "outputs": [
    {
     "name": "stdout",
     "output_type": "stream",
     "text": [
      "[[ 0.96402758  0.        ]\n",
      " [ 0.          0.96402758]\n",
      " [ 0.          0.        ]\n",
      " [ 0.76159416  0.76159416]\n",
      " [ 0.76159416  0.        ]\n",
      " [ 0.          0.76159416]\n",
      " [ 0.          0.76159416]\n",
      " [ 0.          0.76159416]\n",
      " [ 0.          0.        ]\n",
      " [ 0.76159416  0.76159416]]\n"
     ]
    }
   ],
   "source": [
    "import theano\n",
    "import theano.tensor as T\n",
    "import numpy as np\n",
    "\n",
    "# define tensor variables\n",
    "X = T.matrix(\"X\")\n",
    "W = T.matrix(\"W\")\n",
    "b_sym = T.vector(\"b_sym\")\n",
    "\n",
    "# define shared random stream\n",
    "trng = T.shared_randomstreams.RandomStreams(1234)\n",
    "d=trng.binomial(size=W[1].shape)\n",
    "\n",
    "results, updates = theano.scan(lambda v: T.tanh(T.dot(v, W) + b_sym) * d, sequences=X)\n",
    "compute_with_bnoise = theano.function(inputs=[X, W, b_sym], outputs=results,\n",
    "                          updates=updates, allow_input_downcast=True)\n",
    "x = np.eye(10, 2, dtype=theano.config.floatX)\n",
    "w = np.ones((2, 2), dtype=theano.config.floatX)\n",
    "b = np.ones((2), dtype=theano.config.floatX)\n",
    "\n",
    "print(compute_with_bnoise(x, w, b))"
   ]
  },
  {
   "cell_type": "markdown",
   "metadata": {
    "ein.tags": [
     "worksheet-0"
    ]
   },
   "source": [
    "Scan Example: Computing pow(A, k)"
   ]
  },
  {
   "cell_type": "code",
   "execution_count": 10,
   "metadata": {
    "autoscroll": "json-false",
    "collapsed": false,
    "ein.tags": [
     "worksheet-0"
    ]
   },
   "outputs": [
    {
     "name": "stdout",
     "output_type": "stream",
     "text": [
      "[  0.   1.   4.   9.  16.  25.  36.  49.  64.  81.]\n"
     ]
    }
   ],
   "source": [
    "import theano\n",
    "import theano.tensor as T\n",
    "theano.config.warn.subtensor_merge_bug = False\n",
    "\n",
    "k = T.iscalar(\"k\")\n",
    "A = T.vector(\"A\")\n",
    "\n",
    "def inner_fct(prior_result, B):\n",
    "    return prior_result * B\n",
    "\n",
    "# Symbolic description of the result\n",
    "result, updates = theano.scan(fn=inner_fct,\n",
    "                            outputs_info=T.ones_like(A),\n",
    "                            non_sequences=A, n_steps=k)\n",
    "\n",
    "# Scan has provided us with A ** 1 through A ** k.  Keep only the last\n",
    "# value. Scan notices this and does not waste memory saving them.\n",
    "final_result = result[-1]\n",
    "\n",
    "power = theano.function(inputs=[A, k], outputs=final_result,\n",
    "                      updates=updates)\n",
    "\n",
    "print(power(range(10), 2))"
   ]
  },
  {
   "cell_type": "markdown",
   "metadata": {
    "ein.tags": [
     "worksheet-0"
    ]
   },
   "source": [
    "Scan Example: Calculating a Polynomial"
   ]
  },
  {
   "cell_type": "code",
   "execution_count": 11,
   "metadata": {
    "autoscroll": "json-false",
    "collapsed": false,
    "ein.tags": [
     "worksheet-0"
    ]
   },
   "outputs": [
    {
     "name": "stdout",
     "output_type": "stream",
     "text": [
      "19.0\n"
     ]
    }
   ],
   "source": [
    "import numpy\n",
    "import theano\n",
    "import theano.tensor as T\n",
    "theano.config.warn.subtensor_merge_bug = False\n",
    "\n",
    "coefficients = theano.tensor.vector(\"coefficients\")\n",
    "x = T.scalar(\"x\")\n",
    "max_coefficients_supported = 10000\n",
    "\n",
    "# Generate the components of the polynomial\n",
    "full_range=theano.tensor.arange(max_coefficients_supported)\n",
    "components, updates = theano.scan(fn=lambda coeff, power, free_var:\n",
    "                                   coeff * (free_var ** power),\n",
    "                                outputs_info=None,\n",
    "                                sequences=[coefficients, full_range],\n",
    "                                non_sequences=x)\n",
    "\n",
    "polynomial = components.sum()\n",
    "calculate_polynomial = theano.function(inputs=[coefficients, x],\n",
    "                                     outputs=polynomial)\n",
    "\n",
    "test_coeff = numpy.asarray([1, 0, 2], dtype=numpy.float32)\n",
    "print(calculate_polynomial(test_coeff, 3))"
   ]
  },
  {
   "cell_type": "code",
   "execution_count": 0,
   "metadata": {
    "autoscroll": "json-false",
    "collapsed": false,
    "ein.tags": [
     "worksheet-0"
    ]
   },
   "outputs": [],
   "source": []
  }
 ],
 "metadata": {
  "kernelspec": {
   "display_name": "Python 3",
   "name": "python3"
  },
  "language_info": {
   "codemirror_mode": {
    "name": "ipython",
    "version": 3
   },
   "file_extension": ".py",
   "mimetype": "text/x-python",
   "name": "python",
   "nbconvert_exporter": "python",
   "pygments_lexer": "ipython3",
   "version": "3.5.1"
  },
  "name": "05_Loop.ipynb"
 },
 "nbformat": 4,
 "nbformat_minor": 0
}
