{
 "cells": [
  {
   "cell_type": "markdown",
   "metadata": {
    "ein.tags": [
     "worksheet-0"
    ]
   },
   "source": [
    "# More Examples"
   ]
  },
  {
   "cell_type": "markdown",
   "metadata": {
    "ein.tags": [
     "worksheet-0"
    ]
   },
   "source": [
    "## Logistic Function"
   ]
  },
  {
   "cell_type": "code",
   "execution_count": 1,
   "metadata": {
    "autoscroll": "json-false",
    "collapsed": false,
    "ein.tags": [
     "worksheet-0"
    ]
   },
   "outputs": [
    {
     "data": {
      "text/plain": [
       "array([[ 0.5       ,  0.73105858],\n",
       "       [ 0.26894142,  0.11920292]])"
      ]
     },
     "execution_count": 1,
     "metadata": {},
     "output_type": "execute_result"
    }
   ],
   "source": [
    "import theano\n",
    "import theano.tensor as T\n",
    "x = T.dmatrix('x')\n",
    "s = 1 / (1 + T.exp(-x))\n",
    "logistic = theano.function([x], s)\n",
    "logistic([[0, 1], [-1, -2]])"
   ]
  },
  {
   "cell_type": "code",
   "execution_count": 2,
   "metadata": {
    "autoscroll": "json-false",
    "collapsed": false,
    "ein.tags": [
     "worksheet-0"
    ]
   },
   "outputs": [
    {
     "data": {
      "text/plain": [
       "array([[ 0.5       ,  0.73105858],\n",
       "       [ 0.26894142,  0.11920292]])"
      ]
     },
     "execution_count": 2,
     "metadata": {},
     "output_type": "execute_result"
    }
   ],
   "source": [
    "s2 = (1 + T.tanh(x / 2)) / 2\n",
    "logistic2 = theano.function([x], s2)\n",
    "logistic2([[0, 1], [-1, -2]])"
   ]
  },
  {
   "cell_type": "markdown",
   "metadata": {
    "ein.tags": [
     "worksheet-0"
    ]
   },
   "source": [
    "## Computing More than one Thing at the Same Time"
   ]
  },
  {
   "cell_type": "code",
   "execution_count": 3,
   "metadata": {
    "autoscroll": "json-false",
    "collapsed": false,
    "ein.tags": [
     "worksheet-0"
    ]
   },
   "outputs": [],
   "source": [
    "a, b = T.dmatrices('a', 'b')\n",
    "diff = a - b\n",
    "abs_diff = abs(diff)\n",
    "diff_squared = diff**2\n",
    "f = theano.function([a, b], [diff, abs_diff, diff_squared])"
   ]
  },
  {
   "cell_type": "code",
   "execution_count": 4,
   "metadata": {
    "autoscroll": "json-false",
    "collapsed": false,
    "ein.tags": [
     "worksheet-0"
    ]
   },
   "outputs": [
    {
     "data": {
      "text/plain": [
       "[array([[ 1.,  0.],\n",
       "        [-1., -2.]]), array([[ 1.,  0.],\n",
       "        [ 1.,  2.]]), array([[ 1.,  0.],\n",
       "        [ 1.,  4.]])]"
      ]
     },
     "execution_count": 4,
     "metadata": {},
     "output_type": "execute_result"
    }
   ],
   "source": [
    "f([[1, 1], [1, 1]], [[0, 1], [2, 3]])"
   ]
  },
  {
   "cell_type": "markdown",
   "metadata": {
    "ein.tags": [
     "worksheet-0"
    ]
   },
   "source": [
    "## Setting a Default Value for an Argument"
   ]
  },
  {
   "cell_type": "code",
   "execution_count": 5,
   "metadata": {
    "autoscroll": "json-false",
    "collapsed": false,
    "ein.tags": [
     "worksheet-0"
    ]
   },
   "outputs": [],
   "source": [
    "from theano import In\n",
    "from theano import function\n",
    "x, y = T.dscalars('x', 'y')\n",
    "z = x + y\n",
    "f = function([x, In(y, value=1)], z)"
   ]
  },
  {
   "cell_type": "code",
   "execution_count": 6,
   "metadata": {
    "autoscroll": "json-false",
    "collapsed": false,
    "ein.tags": [
     "worksheet-0"
    ]
   },
   "outputs": [
    {
     "data": {
      "text/plain": [
       "array(34.0)"
      ]
     },
     "execution_count": 6,
     "metadata": {},
     "output_type": "execute_result"
    }
   ],
   "source": [
    "f(33)"
   ]
  },
  {
   "cell_type": "code",
   "execution_count": 7,
   "metadata": {
    "autoscroll": "json-false",
    "collapsed": false,
    "ein.tags": [
     "worksheet-0"
    ]
   },
   "outputs": [
    {
     "data": {
      "text/plain": [
       "array(35.0)"
      ]
     },
     "execution_count": 7,
     "metadata": {},
     "output_type": "execute_result"
    }
   ],
   "source": [
    "f(33, 2)"
   ]
  },
  {
   "cell_type": "code",
   "execution_count": 8,
   "metadata": {
    "autoscroll": "json-false",
    "collapsed": false,
    "ein.tags": [
     "worksheet-0"
    ]
   },
   "outputs": [],
   "source": [
    "x, y, w = T.dscalars('x', 'y', 'w')\n",
    "z = (x + y) * w\n",
    "f = function([x, In(y, value=1), In(w, value=2, name='w_by_name')], z)"
   ]
  },
  {
   "cell_type": "code",
   "execution_count": 9,
   "metadata": {
    "autoscroll": "json-false",
    "collapsed": false,
    "ein.tags": [
     "worksheet-0"
    ]
   },
   "outputs": [
    {
     "data": {
      "text/plain": [
       "array(68.0)"
      ]
     },
     "execution_count": 9,
     "metadata": {},
     "output_type": "execute_result"
    }
   ],
   "source": [
    "f(33)"
   ]
  },
  {
   "cell_type": "code",
   "execution_count": 10,
   "metadata": {
    "autoscroll": "json-false",
    "collapsed": false,
    "ein.tags": [
     "worksheet-0"
    ]
   },
   "outputs": [
    {
     "data": {
      "text/plain": [
       "array(70.0)"
      ]
     },
     "execution_count": 10,
     "metadata": {},
     "output_type": "execute_result"
    }
   ],
   "source": [
    "f(33, 2)"
   ]
  },
  {
   "cell_type": "code",
   "execution_count": 12,
   "metadata": {
    "autoscroll": "json-false",
    "collapsed": false,
    "ein.tags": [
     "worksheet-0"
    ]
   },
   "outputs": [
    {
     "data": {
      "text/plain": [
       "array(33.0)"
      ]
     },
     "execution_count": 12,
     "metadata": {},
     "output_type": "execute_result"
    }
   ],
   "source": [
    "f(33, 0, 1)"
   ]
  },
  {
   "cell_type": "code",
   "execution_count": 13,
   "metadata": {
    "autoscroll": "json-false",
    "collapsed": false,
    "ein.tags": [
     "worksheet-0"
    ]
   },
   "outputs": [
    {
     "data": {
      "text/plain": [
       "array(34.0)"
      ]
     },
     "execution_count": 13,
     "metadata": {},
     "output_type": "execute_result"
    }
   ],
   "source": [
    "f(33, w_by_name=1)"
   ]
  },
  {
   "cell_type": "code",
   "execution_count": 14,
   "metadata": {
    "autoscroll": "json-false",
    "collapsed": false,
    "ein.tags": [
     "worksheet-0"
    ]
   },
   "outputs": [
    {
     "data": {
      "text/plain": [
       "array(33.0)"
      ]
     },
     "execution_count": 14,
     "metadata": {},
     "output_type": "execute_result"
    }
   ],
   "source": [
    "f(33, w_by_name=1, y=0)"
   ]
  },
  {
   "cell_type": "code",
   "execution_count": 15,
   "metadata": {
    "autoscroll": "json-false",
    "collapsed": false,
    "ein.tags": [
     "worksheet-0"
    ]
   },
   "outputs": [],
   "source": [
    "from theano import shared\n",
    "state = shared(0)\n",
    "inc = T.iscalar('inc')\n",
    "accumulator = function([inc], state, updates=[(state, state+inc)])"
   ]
  },
  {
   "cell_type": "code",
   "execution_count": 16,
   "metadata": {
    "autoscroll": "json-false",
    "collapsed": false,
    "ein.tags": [
     "worksheet-0"
    ]
   },
   "outputs": [
    {
     "name": "stdout",
     "output_type": "stream",
     "text": [
      "0\n"
     ]
    }
   ],
   "source": [
    "print(state.get_value())"
   ]
  },
  {
   "cell_type": "code",
   "execution_count": 17,
   "metadata": {
    "autoscroll": "json-false",
    "collapsed": false,
    "ein.tags": [
     "worksheet-0"
    ]
   },
   "outputs": [
    {
     "data": {
      "text/plain": [
       "array(0)"
      ]
     },
     "execution_count": 17,
     "metadata": {},
     "output_type": "execute_result"
    }
   ],
   "source": [
    "accumulator(1)"
   ]
  },
  {
   "cell_type": "code",
   "execution_count": 18,
   "metadata": {
    "autoscroll": "json-false",
    "collapsed": false,
    "ein.tags": [
     "worksheet-0"
    ]
   },
   "outputs": [
    {
     "name": "stdout",
     "output_type": "stream",
     "text": [
      "1\n"
     ]
    }
   ],
   "source": [
    "print(state.get_value())"
   ]
  },
  {
   "cell_type": "code",
   "execution_count": 19,
   "metadata": {
    "autoscroll": "json-false",
    "collapsed": false,
    "ein.tags": [
     "worksheet-0"
    ]
   },
   "outputs": [
    {
     "data": {
      "text/plain": [
       "array(1)"
      ]
     },
     "execution_count": 19,
     "metadata": {},
     "output_type": "execute_result"
    }
   ],
   "source": [
    "accumulator(300)"
   ]
  },
  {
   "cell_type": "code",
   "execution_count": 20,
   "metadata": {
    "autoscroll": "json-false",
    "collapsed": false,
    "ein.tags": [
     "worksheet-0"
    ]
   },
   "outputs": [
    {
     "name": "stdout",
     "output_type": "stream",
     "text": [
      "301\n"
     ]
    }
   ],
   "source": [
    "print(state.get_value())"
   ]
  },
  {
   "cell_type": "code",
   "execution_count": 21,
   "metadata": {
    "autoscroll": "json-false",
    "collapsed": false,
    "ein.tags": [
     "worksheet-0"
    ]
   },
   "outputs": [
    {
     "data": {
      "text/plain": [
       "array(301)"
      ]
     },
     "execution_count": 21,
     "metadata": {},
     "output_type": "execute_result"
    }
   ],
   "source": [
    "state.get_value(-1)\n",
    "accumulator(3)"
   ]
  },
  {
   "cell_type": "code",
   "execution_count": 22,
   "metadata": {
    "autoscroll": "json-false",
    "collapsed": false,
    "ein.tags": [
     "worksheet-0"
    ]
   },
   "outputs": [
    {
     "name": "stdout",
     "output_type": "stream",
     "text": [
      "304\n"
     ]
    }
   ],
   "source": [
    "print(state.get_value())"
   ]
  },
  {
   "cell_type": "code",
   "execution_count": 24,
   "metadata": {
    "autoscroll": "json-false",
    "collapsed": false,
    "ein.tags": [
     "worksheet-0"
    ]
   },
   "outputs": [
    {
     "data": {
      "text/plain": [
       "array(304)"
      ]
     },
     "execution_count": 24,
     "metadata": {},
     "output_type": "execute_result"
    }
   ],
   "source": [
    "decrementor = function([inc], state, updates=[(state, state-inc)])\n",
    "decrementor(2)"
   ]
  },
  {
   "cell_type": "code",
   "execution_count": 25,
   "metadata": {
    "autoscroll": "json-false",
    "collapsed": false,
    "ein.tags": [
     "worksheet-0"
    ]
   },
   "outputs": [
    {
     "name": "stdout",
     "output_type": "stream",
     "text": [
      "302\n"
     ]
    }
   ],
   "source": [
    "print(state.get_value())"
   ]
  },
  {
   "cell_type": "code",
   "execution_count": 26,
   "metadata": {
    "autoscroll": "json-false",
    "collapsed": false,
    "ein.tags": [
     "worksheet-0"
    ]
   },
   "outputs": [
    {
     "data": {
      "text/plain": [
       "array(7)"
      ]
     },
     "execution_count": 26,
     "metadata": {},
     "output_type": "execute_result"
    }
   ],
   "source": [
    "fn_of_state = state * 2 + inc\n",
    "foo = T.scalar(dtype=state.dtype)\n",
    "skip_shared = function([inc, foo], fn_of_state, givens=[(state, foo)])\n",
    "skip_shared(1, 3)"
   ]
  },
  {
   "cell_type": "code",
   "execution_count": 27,
   "metadata": {
    "autoscroll": "json-false",
    "collapsed": false,
    "ein.tags": [
     "worksheet-0"
    ]
   },
   "outputs": [
    {
     "name": "stdout",
     "output_type": "stream",
     "text": [
      "302\n"
     ]
    }
   ],
   "source": [
    "print(state.get_value())"
   ]
  },
  {
   "cell_type": "markdown",
   "metadata": {
    "ein.tags": [
     "worksheet-0"
    ]
   },
   "source": [
    "## Using Random Numbers"
   ]
  },
  {
   "cell_type": "markdown",
   "metadata": {
    "ein.tags": [
     "worksheet-0"
    ]
   },
   "source": [
    "### Brief Example"
   ]
  },
  {
   "cell_type": "code",
   "execution_count": 28,
   "metadata": {
    "autoscroll": "json-false",
    "collapsed": false,
    "ein.tags": [
     "worksheet-0"
    ]
   },
   "outputs": [],
   "source": [
    "from theano.tensor.shared_randomstreams import RandomStreams\n",
    "from theano import function\n",
    "srng = RandomStreams(seed=234)\n",
    "rv_u = srng.uniform((2,2))\n",
    "rv_n = srng.normal((2,2))\n",
    "f = function([], rv_u)\n",
    "g = function([], rv_n, no_default_updates=True)\n",
    "nearly_zeros = function([], rv_u + rv_u - 2 * rv_u)"
   ]
  },
  {
   "cell_type": "code",
   "execution_count": 29,
   "metadata": {
    "autoscroll": "json-false",
    "collapsed": false,
    "ein.tags": [
     "worksheet-0"
    ]
   },
   "outputs": [],
   "source": [
    "f_val0 = f()\n",
    "f_val1 = f()"
   ]
  },
  {
   "cell_type": "code",
   "execution_count": 30,
   "metadata": {
    "autoscroll": "json-false",
    "collapsed": false,
    "ein.tags": [
     "worksheet-0"
    ]
   },
   "outputs": [],
   "source": [
    "g_val0 = g()\n",
    "g_val1 = g()"
   ]
  },
  {
   "cell_type": "code",
   "execution_count": 31,
   "metadata": {
    "autoscroll": "json-false",
    "collapsed": false,
    "ein.tags": [
     "worksheet-0"
    ]
   },
   "outputs": [
    {
     "data": {
      "text/plain": [
       "(array([[ 0.12672381,  0.97091597],\n",
       "        [ 0.13989098,  0.88754825]]), array([[ 0.31971415,  0.47584377],\n",
       "        [ 0.24129163,  0.42046081]]), array([[ 0.37328447, -0.65746672],\n",
       "        [-0.36302373, -0.97484625]]), array([[ 0.37328447, -0.65746672],\n",
       "        [-0.36302373, -0.97484625]]))"
      ]
     },
     "execution_count": 31,
     "metadata": {},
     "output_type": "execute_result"
    }
   ],
   "source": [
    "f_val0, f_val1, g_val0, g_val1"
   ]
  },
  {
   "cell_type": "code",
   "execution_count": 42,
   "metadata": {
    "autoscroll": "json-false",
    "collapsed": false,
    "ein.tags": [
     "worksheet-0"
    ]
   },
   "outputs": [
    {
     "data": {
      "text/plain": [
       "(array([[ 0.04932455,  0.95363814],\n",
       "        [ 0.91038487,  0.81128167]]), array([[ 0.07840424,  0.67944917],\n",
       "        [ 0.33755902,  0.30124475]]), array([[ 0.37328447, -0.65746672],\n",
       "        [-0.36302373, -0.97484625]]), array([[ 0.37328447, -0.65746672],\n",
       "        [-0.36302373, -0.97484625]]))"
      ]
     },
     "execution_count": 42,
     "metadata": {},
     "output_type": "execute_result"
    }
   ],
   "source": [
    "f(), f(), g(), g()"
   ]
  },
  {
   "cell_type": "code",
   "execution_count": 37,
   "metadata": {
    "autoscroll": "json-false",
    "collapsed": false,
    "ein.tags": [
     "worksheet-0"
    ]
   },
   "outputs": [
    {
     "data": {
      "text/plain": [
       "(array([[ 0.12672381,  0.97091597],\n",
       "        [ 0.13989098,  0.88754825]]), array([[ 0.31971415,  0.47584377],\n",
       "        [ 0.24129163,  0.42046081]]), array([[ 0.37328447, -0.65746672],\n",
       "        [-0.36302373, -0.97484625]]), array([[ 0.37328447, -0.65746672],\n",
       "        [-0.36302373, -0.97484625]]))"
      ]
     },
     "execution_count": 37,
     "metadata": {},
     "output_type": "execute_result"
    }
   ],
   "source": [
    "f_val0, f_val1, g_val0, g_val1"
   ]
  },
  {
   "cell_type": "markdown",
   "metadata": {
    "ein.tags": [
     "worksheet-0"
    ]
   },
   "source": [
    "### Seeding Streams"
   ]
  },
  {
   "cell_type": "code",
   "execution_count": 38,
   "metadata": {
    "autoscroll": "json-false",
    "collapsed": false,
    "ein.tags": [
     "worksheet-0"
    ]
   },
   "outputs": [],
   "source": [
    "rng_val = rv_u.rng.get_value(borrow=True)\n",
    "rng_val.seed(89234)\n",
    "rv_u.rng.set_value(rng_val, borrow=True)"
   ]
  },
  {
   "cell_type": "code",
   "execution_count": 43,
   "metadata": {
    "autoscroll": "json-false",
    "collapsed": false,
    "ein.tags": [
     "worksheet-0"
    ]
   },
   "outputs": [],
   "source": [
    "srng.seed(902340)"
   ]
  },
  {
   "cell_type": "code",
   "execution_count": 44,
   "metadata": {
    "autoscroll": "json-false",
    "collapsed": false,
    "ein.tags": [
     "worksheet-0"
    ]
   },
   "outputs": [],
   "source": [
    "### Sharing Streams Between Functions"
   ]
  },
  {
   "cell_type": "code",
   "execution_count": 48,
   "metadata": {
    "autoscroll": "json-false",
    "collapsed": false,
    "ein.tags": [
     "worksheet-0"
    ]
   },
   "outputs": [
    {
     "data": {
      "text/plain": [
       "array([[ 0.,  0.],\n",
       "       [ 0.,  0.]])"
      ]
     },
     "execution_count": 48,
     "metadata": {},
     "output_type": "execute_result"
    }
   ],
   "source": [
    "state_after_v0 = rv_u.rng.get_value().get_state()\n",
    "nearly_zeros()\n"
   ]
  },
  {
   "cell_type": "code",
   "execution_count": 49,
   "metadata": {
    "autoscroll": "json-false",
    "collapsed": false,
    "ein.tags": [
     "worksheet-0"
    ]
   },
   "outputs": [],
   "source": [
    "v1 = f()\n",
    "rng = rv_u.rng.get_value(borrow=True)\n",
    "rng.set_state(state_after_v0)\n",
    "rv_u.rng.set_value(rng, borrow=True)"
   ]
  },
  {
   "cell_type": "code",
   "execution_count": 51,
   "metadata": {
    "autoscroll": "json-false",
    "collapsed": false,
    "ein.tags": [
     "worksheet-0"
    ]
   },
   "outputs": [],
   "source": [
    "v2 = f()\n",
    "v3 = f()"
   ]
  },
  {
   "cell_type": "markdown",
   "metadata": {
    "ein.tags": [
     "worksheet-0"
    ]
   },
   "source": [
    "### Copying Random State Between Theano Graphs"
   ]
  },
  {
   "cell_type": "code",
   "execution_count": 52,
   "metadata": {
    "autoscroll": "json-false",
    "collapsed": false,
    "ein.tags": [
     "worksheet-0"
    ]
   },
   "outputs": [],
   "source": [
    "from __future__ import print_function\n",
    "import theano\n",
    "import numpy\n",
    "import theano.tensor as T\n",
    "from theano.sandbox.rng_mrg import MRG_RandomStreams\n",
    "from theano.tensor.shared_randomstreams import RandomStreams"
   ]
  },
  {
   "cell_type": "code",
   "execution_count": 59,
   "metadata": {
    "autoscroll": "json-false",
    "collapsed": false,
    "ein.tags": [
     "worksheet-0"
    ]
   },
   "outputs": [],
   "source": [
    "class Graph():\n",
    "    def __init__(self, seed=123):\n",
    "        self.rng = RandomStreams(seed)\n",
    "        self.y = self.rng.uniform(size=(1,))"
   ]
  },
  {
   "cell_type": "code",
   "execution_count": 60,
   "metadata": {
    "autoscroll": "json-false",
    "collapsed": false,
    "ein.tags": [
     "worksheet-0"
    ]
   },
   "outputs": [],
   "source": [
    "g1 = Graph(seed=123)\n",
    "f1 = theano.function([], g1.y)"
   ]
  },
  {
   "cell_type": "code",
   "execution_count": 61,
   "metadata": {
    "autoscroll": "json-false",
    "collapsed": false,
    "ein.tags": [
     "worksheet-0"
    ]
   },
   "outputs": [],
   "source": [
    "g2 = Graph(seed=987)\n",
    "f2 = theano.function([], g2.y)"
   ]
  },
  {
   "cell_type": "code",
   "execution_count": 62,
   "metadata": {
    "autoscroll": "json-false",
    "collapsed": false,
    "ein.tags": [
     "worksheet-0"
    ]
   },
   "outputs": [
    {
     "data": {
      "text/plain": [
       "array([ 0.72803009])"
      ]
     },
     "execution_count": 62,
     "metadata": {},
     "output_type": "execute_result"
    }
   ],
   "source": [
    "f1()"
   ]
  },
  {
   "cell_type": "code",
   "execution_count": 63,
   "metadata": {
    "autoscroll": "json-false",
    "collapsed": false,
    "ein.tags": [
     "worksheet-0"
    ]
   },
   "outputs": [
    {
     "data": {
      "text/plain": [
       "array([ 0.55056769])"
      ]
     },
     "execution_count": 63,
     "metadata": {},
     "output_type": "execute_result"
    }
   ],
   "source": [
    "f2()"
   ]
  },
  {
   "cell_type": "code",
   "execution_count": 64,
   "metadata": {
    "autoscroll": "json-false",
    "collapsed": false,
    "ein.tags": [
     "worksheet-0"
    ]
   },
   "outputs": [],
   "source": [
    "def copy_random_state(g1, g2):\n",
    "    if isinstance(g1.rng, MRG_RandomStreams):\n",
    "        g2.rng.rstate = g1.rng.rstate\n",
    "    for (su1, su2) in zip(g1.rng.state_updates, g2.rng.state_updates):\n",
    "        su2[0].set_value(su1[0].get_value())"
   ]
  },
  {
   "cell_type": "code",
   "execution_count": 65,
   "metadata": {
    "autoscroll": "json-false",
    "collapsed": false,
    "ein.tags": [
     "worksheet-0"
    ]
   },
   "outputs": [
    {
     "data": {
      "text/plain": [
       "array([ 0.59044123])"
      ]
     },
     "execution_count": 65,
     "metadata": {},
     "output_type": "execute_result"
    }
   ],
   "source": [
    "copy_random_state(g1, g2)\n",
    "f1()"
   ]
  },
  {
   "cell_type": "code",
   "execution_count": 66,
   "metadata": {
    "autoscroll": "json-false",
    "collapsed": false,
    "ein.tags": [
     "worksheet-0"
    ]
   },
   "outputs": [
    {
     "data": {
      "text/plain": [
       "array([ 0.59044123])"
      ]
     },
     "execution_count": 66,
     "metadata": {},
     "output_type": "execute_result"
    }
   ],
   "source": [
    "f2()"
   ]
  },
  {
   "cell_type": "markdown",
   "metadata": {
    "ein.tags": [
     "worksheet-0"
    ]
   },
   "source": [
    "### A Real Example: Logistic Regression"
   ]
  },
  {
   "cell_type": "code",
   "execution_count": 67,
   "metadata": {
    "autoscroll": "json-false",
    "collapsed": false,
    "ein.tags": [
     "worksheet-0"
    ]
   },
   "outputs": [
    {
     "name": "stdout",
     "output_type": "stream",
     "text": [
      "Final model:\n",
      "[  2.94099943e-02  -6.54047740e-02  -2.93785903e-02   8.41779181e-02\n",
      "  -8.91364620e-02  -7.04407636e-02   6.16470293e-02  -4.94700260e-02\n",
      "   4.84209957e-02   5.14427109e-02   2.09588347e-02   5.28223504e-02\n",
      "  -3.44340005e-02  -1.95817432e-01  -2.22695853e-01   1.40318546e-01\n",
      "  -3.37075019e-02   1.34756241e-01  -1.18784573e-01  -7.81133534e-02\n",
      "   9.97440005e-02  -1.19900925e-01  -5.72592924e-02   5.85934990e-02\n",
      "   6.03666987e-02  -1.99618537e-01  -6.74732437e-02  -8.22336504e-02\n",
      "   2.24220439e-03   8.51774724e-02  -5.75302289e-02   1.09690817e-01\n",
      "  -1.18647703e-01   1.44062717e-01   2.79660234e-02  -3.30743252e-02\n",
      "  -2.16472526e-01  -6.31222808e-02   4.88357560e-03   1.50647541e-01\n",
      "  -3.48232975e-02   2.09582596e-02  -1.08252377e-01   4.57015640e-02\n",
      "   5.27036517e-02   4.78021948e-02  -7.44905570e-02  -1.20122997e-02\n",
      "   4.32073537e-02  -5.15864063e-02   6.55856644e-03  -8.12355035e-02\n",
      "   7.72836643e-02   6.01564361e-02  -7.91818601e-02   1.08982483e-01\n",
      "  -2.08873547e-02   2.56467601e-02  -2.40624501e-02   8.20324491e-02\n",
      "  -8.55095661e-02   9.76595796e-02  -1.43599790e-01  -9.59255148e-02\n",
      "  -4.07902149e-02  -1.18538349e-02   1.37537347e-01   8.32504363e-02\n",
      "   1.38805908e-01  -2.61653188e-02   9.40412310e-02   9.30283097e-02\n",
      "  -9.17574927e-03   1.65756941e-02   1.52693204e-01   1.03325170e-02\n",
      "   6.09921709e-02   1.59733608e-01  -8.97534817e-02   1.00348596e-01\n",
      "  -1.33002852e-01  -1.32426142e-01  -2.39594263e-02  -6.52828772e-02\n",
      "  -5.48455507e-02  -8.02689630e-03   1.96829681e-02   3.49780447e-02\n",
      "  -8.03415310e-03   1.34351393e-01  -7.98327777e-02  -5.93285248e-02\n",
      "   4.78553954e-02   2.26683588e-01   1.13940405e-01   6.71896763e-02\n",
      "  -1.48344133e-02  -1.07585021e-01  -1.53335676e-01  -7.76090040e-02\n",
      "  -8.49520416e-02   3.67194953e-02   2.50923191e-02  -3.49768409e-02\n",
      "   1.76807978e-01  -1.16975197e-01  -8.06948610e-02   4.21709595e-02\n",
      "  -1.72330529e-01  -3.36735122e-02  -9.01970620e-02   3.32486078e-02\n",
      "   3.73834904e-02   2.59463867e-02  -1.33654825e-02  -1.22285593e-01\n",
      "   4.74915277e-02  -8.85184931e-02  -9.56810537e-03  -6.70134385e-02\n",
      "   4.82986857e-02  -3.61725752e-02   1.31714420e-01  -1.08589356e-02\n",
      "  -3.07566989e-02  -1.93702383e-01   1.42972926e-01  -3.96560683e-02\n",
      "  -1.72530383e-02   8.79995561e-02  -4.44313588e-02  -7.47348959e-02\n",
      "   1.47360771e-01  -6.99949404e-02  -4.51572057e-02  -1.69786337e-01\n",
      "  -2.64992219e-02   1.40568204e-01   2.16671661e-01  -4.18362594e-02\n",
      "  -4.08613190e-02   5.97271083e-03   1.17189106e-01  -6.66954737e-02\n",
      "  -5.55492285e-02   6.57587975e-02   9.80993102e-03   6.21855082e-02\n",
      "   2.37354103e-02   6.05893393e-02   9.89358283e-02  -5.74890844e-04\n",
      "  -3.78951988e-02   2.24645088e-01   9.80861481e-02  -4.51107799e-02\n",
      "  -5.59105916e-02  -4.97876526e-02   8.85491302e-02   5.13215372e-03\n",
      "  -1.36960675e-01  -4.43604574e-02   2.53969923e-02   4.92795677e-02\n",
      "   1.42896723e-01  -5.97228764e-02  -1.05933254e-01   6.35482712e-02\n",
      "   2.25069890e-01   8.51475193e-02   4.05924951e-02   8.20833850e-03\n",
      "   6.42303387e-02  -6.62040721e-02  -2.16589894e-02   7.47284109e-02\n",
      "  -1.13196309e-01  -7.30910710e-03  -7.78483714e-02   6.38848620e-02\n",
      "  -8.42224195e-02  -7.26490198e-02  -1.30922393e-01   8.06847926e-02\n",
      "   6.06849377e-02  -1.18944264e-01  -1.37341165e-01   2.22467149e-02\n",
      "  -2.14882224e-01   3.40282502e-02   6.00291103e-02   6.31623596e-02\n",
      "  -9.71381558e-02   5.28122077e-02  -2.09635460e-02  -1.90715489e-02\n",
      "   1.09596668e-01   6.39915422e-02  -8.54513532e-02  -8.21458604e-02\n",
      "   1.37238993e-01   1.01578697e-01  -3.40370271e-02   1.08972141e-01\n",
      "   8.03520576e-02  -7.64831000e-05  -4.67516161e-02  -6.38305452e-02\n",
      "  -5.88140240e-03   1.08698713e-01   3.69839915e-02  -2.33788503e-02\n",
      "   2.95989680e-02   2.74905590e-02  -1.08584942e-01   3.43972898e-03\n",
      "   1.86958038e-01  -2.61146621e-01  -1.66682122e-01   3.17081290e-02\n",
      "   9.38515816e-02  -5.08905747e-05  -7.20108764e-02  -1.12361194e-01\n",
      "  -9.94100425e-02   4.87151612e-02   5.18615837e-02   7.56171308e-03\n",
      "  -6.81412836e-02  -5.82996483e-02  -1.28163752e-01   1.25440347e-02\n",
      "   6.96030562e-02  -5.65375669e-02  -5.19188857e-02  -1.24669931e-01\n",
      "  -4.56488513e-03   1.54763125e-01   7.08097529e-02   9.07966025e-02\n",
      "  -1.74165874e-01   1.64504431e-01  -3.29540947e-03  -5.18077547e-02\n",
      "  -2.56776681e-01   1.27793927e-01   2.31724254e-02  -3.14983931e-02\n",
      "   6.05798213e-02  -1.88571271e-01  -4.57473145e-02   2.60464451e-02\n",
      "  -3.58515563e-03   1.66133222e-01   4.03156095e-02  -7.97846219e-02\n",
      "  -1.62267000e-01   5.30141509e-02  -1.75845086e-02   3.85887178e-02\n",
      "  -7.77858654e-02   3.06500902e-02  -2.26773362e-02  -1.72252817e-02\n",
      "  -9.52712728e-02   9.12253644e-02   1.44342106e-01  -6.57303582e-03\n",
      "   1.71963321e-01   5.42633980e-02  -3.45167209e-02   1.25345776e-01\n",
      "   3.23506319e-02  -1.11806083e-01  -1.20993682e-01  -1.73260700e-01\n",
      "  -1.53821882e-02  -7.54826842e-02   6.41371764e-02  -8.85499893e-02\n",
      "   5.10613412e-02  -8.60894875e-02  -1.53999577e-01  -1.53253912e-01\n",
      "   1.71672412e-02  -1.32986704e-01  -1.18398635e-02   4.42699749e-02\n",
      "  -2.92925442e-02  -4.72905875e-02   3.63244194e-03  -1.51048823e-01\n",
      "  -1.11410813e-02  -6.85061084e-05  -3.90148086e-02   1.35062043e-02\n",
      "  -2.96604877e-02   3.41560698e-02  -1.19931935e-01   9.44554964e-02\n",
      "  -2.99976610e-02  -6.36910817e-02  -4.55056778e-02  -3.15613986e-02\n",
      "  -8.28761242e-02   1.70783983e-01  -7.99656978e-03  -7.33635204e-02\n",
      "   5.81838319e-02   2.30314106e-02   9.61929954e-02   1.52112920e-02\n",
      "   8.79212371e-02  -6.32094882e-02   1.37320850e-01   8.67731957e-02\n",
      "  -1.02588219e-01  -1.61300195e-02   1.54059635e-01   7.71987419e-02\n",
      "   4.94461050e-02   8.31414948e-03   4.45211485e-02   1.13757259e-01\n",
      "  -9.93953018e-02  -1.56139474e-01  -8.54513786e-02  -8.81644195e-02\n",
      "  -1.17586021e-01  -5.69401366e-02  -5.19036947e-02   6.64716659e-03\n",
      "  -2.04090297e-02  -1.35872442e-01  -9.74848917e-02  -1.30855556e-01\n",
      "  -3.65334009e-02   5.86725501e-02  -7.17712234e-02   1.40728586e-01\n",
      "   9.22740122e-02  -6.17604052e-02  -4.19730602e-02   6.62364200e-02\n",
      "  -1.62416277e-01  -6.43993087e-02   5.24757461e-02   6.75703065e-02\n",
      "  -5.35118339e-02   9.01567148e-02  -8.92416085e-02   7.23688246e-02\n",
      "  -7.94304103e-02  -2.17180128e-02  -3.80828478e-02  -3.46877146e-02\n",
      "   1.20373830e-01  -1.12091288e-01   3.40870047e-02   2.87970268e-01\n",
      "  -8.23869650e-02   5.39668445e-02  -1.39341762e-01  -1.08563008e-01\n",
      "  -3.88869337e-02  -3.54012312e-02  -1.22864637e-01   2.99752953e-02\n",
      "   2.28037476e-03   4.13698880e-02  -5.74674776e-02  -2.21295386e-01\n",
      "  -5.70913556e-02   3.58235737e-03   1.99477819e-01   2.01313225e-02\n",
      "  -1.22777705e-01   5.28106693e-02   3.30702993e-02  -9.14132936e-03\n",
      "   7.76282316e-02   1.87345090e-01  -2.49598342e-01   2.41569732e-02\n",
      "  -3.12471992e-01  -7.03645799e-02   6.29595074e-02   1.60884957e-02\n",
      "  -2.54194622e-02  -6.73304532e-03   6.36038302e-02   2.33384595e-02\n",
      "  -1.41537727e-01  -4.55368392e-02   1.18875862e-01   1.75362279e-01\n",
      "  -1.84906167e-03  -7.31612013e-02   1.75389278e-02   7.68496776e-02\n",
      "   1.43379410e-01   1.64840332e-01   8.02581562e-02   1.16590201e-01\n",
      "   8.52234723e-03   2.23948286e-01  -7.72289267e-02  -9.66447585e-02\n",
      "  -1.38250380e-02   4.29581218e-02   4.42621080e-02   1.74674510e-02\n",
      "  -7.04123121e-02  -1.38473376e-02   3.51541158e-02  -5.16743737e-02\n",
      "  -4.90046607e-02   9.72403008e-03   1.61669647e-01   1.77234258e-01\n",
      "   4.50394151e-02  -1.09914895e-01   1.04774584e-02   2.56890086e-02\n",
      "  -9.50630965e-02   7.68558086e-03   2.89294187e-02   3.40882033e-02\n",
      "  -2.53501407e-01   1.26131980e-01   1.01023448e-01  -4.69509428e-02\n",
      "  -1.09716033e-01  -3.85350639e-03  -5.12624288e-02  -1.57481783e-01\n",
      "  -1.38175662e-01  -4.87732989e-03  -1.83986171e-01  -3.89887055e-02\n",
      "  -1.00370382e-01  -7.35994831e-02  -8.44920135e-02   1.54475929e-01\n",
      "   2.03306434e-02   8.34772067e-03   8.26711772e-02   2.62209410e-02\n",
      "   2.36036157e-03  -1.12689972e-02  -6.56538846e-02   2.23826556e-02\n",
      "  -1.31762971e-01   8.23286688e-02  -6.40337196e-02   1.76229948e-02\n",
      "  -6.82130215e-03  -1.87559931e-02  -6.95165084e-02  -2.12821126e-01\n",
      "   1.16797367e-03  -1.29451583e-01   1.35390829e-01  -2.14393953e-02\n",
      "   8.45389770e-02   3.27934547e-02   1.90851775e-02  -4.14530822e-02\n",
      "   1.14525616e-02   1.50144836e-01  -7.40225761e-02   4.52453339e-02\n",
      "  -1.68723524e-02   5.96404441e-02   5.22044265e-03  -1.13606865e-01\n",
      "   7.00147398e-02   6.47205688e-02   4.76865700e-02  -2.72561358e-02\n",
      "   1.56081358e-01  -9.02912606e-02   3.87879885e-02  -3.00650078e-02\n",
      "  -9.61293069e-02   8.42999774e-02  -9.00749415e-02   1.92970677e-02\n",
      "   1.26122369e-02  -1.36863210e-01  -1.03331755e-01   6.62073871e-02\n",
      "  -1.33519435e-01   3.78051232e-02  -1.87349676e-02  -5.68447152e-02\n",
      "   7.08771264e-02   3.06560909e-01  -1.42811173e-01   8.66653184e-02\n",
      "   7.23271586e-02  -6.99231275e-02  -1.71367253e-01   1.36748334e-02\n",
      "   5.97835401e-02   4.15951157e-02  -1.04588766e-02  -2.31417589e-02\n",
      "   1.34824819e-02   1.94156971e-02  -1.65817750e-01   3.09409759e-01\n",
      "   8.01548553e-02   8.85099661e-02   6.22062614e-02   5.04715851e-02\n",
      "  -7.53400224e-02   3.12333450e-02  -1.58330303e-02  -3.19803608e-02\n",
      "   9.65086471e-02  -1.64825219e-02  -7.56010892e-02   4.59448538e-02\n",
      "  -5.44024748e-02  -1.18860519e-01   7.25375350e-03   1.46640512e-02\n",
      "  -1.14490102e-01  -2.60517489e-02   9.58431217e-02   7.38823604e-03\n",
      "   9.01574503e-02   9.21729219e-02  -3.63361594e-02  -1.86415981e-02\n",
      "  -1.10392014e-01  -4.67738166e-02   8.73227412e-02   1.42716440e-01\n",
      "  -4.31587592e-02   1.09216139e-01  -4.78687827e-03  -3.37961792e-03\n",
      "  -6.75316996e-02   9.07542443e-02   1.28387797e-01   1.23285929e-01\n",
      "   8.72786658e-02  -1.99874729e-02   3.79397411e-02   1.39836878e-02\n",
      "  -5.41494593e-02  -1.60400355e-02  -9.06320314e-02  -7.44837796e-02\n",
      "   1.54610110e-02   5.54821342e-03   2.75045819e-02  -6.66890421e-02\n",
      "   5.26369610e-02  -1.20161182e-02   1.07446305e-01   7.10186013e-03\n",
      "   1.25775847e-02   4.77139000e-02  -3.81869066e-02   8.76600430e-03\n",
      "  -9.50091256e-02  -8.06713681e-02  -1.00564883e-01  -1.01988177e-01\n",
      "   6.80238229e-02   1.14299650e-02  -3.40220629e-03   1.32016051e-01\n",
      "  -5.24613133e-03   8.49912194e-02  -2.05493967e-02  -2.29009871e-01\n",
      "  -1.59732959e-01  -1.48625789e-01   9.36294745e-02   1.10679132e-01\n",
      "  -4.81273552e-02  -1.02085227e-01   8.37537466e-02   2.87205833e-04\n",
      "  -5.40182813e-02   3.12404466e-03  -6.08570607e-03  -6.36890512e-02\n",
      "   1.26291991e-01  -2.76946536e-02   3.80753957e-02  -4.82085073e-02\n",
      "  -4.52853641e-02   1.48827115e-01   1.29868235e-01   1.31727380e-02\n",
      "  -3.18075325e-02   3.73807176e-02   3.60136016e-02   1.86259813e-02\n",
      "  -8.16968346e-02   3.97018474e-02   1.21699409e-01  -1.35704898e-02\n",
      "  -1.62817358e-01  -1.79937461e-02   1.17041853e-01  -1.19084799e-01\n",
      "   1.44775279e-01  -9.24345577e-02  -5.57389841e-02   3.69177689e-02\n",
      "  -1.88635993e-02  -6.20707405e-03  -1.56698743e-03   4.33696226e-02\n",
      "   1.19982979e-02   6.87681133e-02   3.67108821e-02   6.99896534e-02\n",
      "  -8.62597811e-02   1.06503188e-01  -1.78189259e-02  -6.30661154e-02\n",
      "  -5.14885892e-02  -1.00572527e-01   1.87102369e-01   6.31183459e-02\n",
      "  -1.29319802e-01  -3.55451762e-02  -7.48328631e-03  -1.20385042e-01\n",
      "  -4.54560888e-02  -8.27047339e-02   1.34360274e-01   9.96149832e-02\n",
      "  -1.88739644e-02  -1.22682451e-01   3.96194934e-02   3.08392471e-02\n",
      "   5.03157369e-03  -2.24086307e-01  -1.40739713e-02   4.36756237e-02\n",
      "  -5.11079455e-02   2.71636284e-02  -1.47050270e-01   9.68278973e-02\n",
      "   2.63885154e-02  -5.39417256e-02  -1.05898743e-01   8.20708504e-02\n",
      "  -9.19880106e-02   6.59821428e-02   1.12583938e-02  -1.46512766e-01\n",
      "   2.20638890e-02   7.51862028e-02  -6.36263861e-03  -4.73450814e-02\n",
      "   3.40966401e-04  -4.55127372e-02  -1.07764571e-02   1.03179472e-01\n",
      "  -1.18700053e-02   1.08631468e-01   1.30581995e-01  -2.65768623e-01\n",
      "   1.36132154e-01   3.15997563e-02  -7.59464117e-02  -1.82238516e-02\n",
      "  -1.11664887e-01   5.33517899e-02   1.51550276e-02   9.61324929e-02\n",
      "   2.13318624e-02  -2.43448714e-01   7.46943493e-02   1.06147203e-02\n",
      "  -1.05200029e-01  -1.02997764e-01  -2.37933234e-01   1.32140785e-01\n",
      "   4.02066263e-02   4.47040941e-03   6.71455258e-02   5.98648216e-04\n",
      "   3.47399166e-02  -2.94883320e-03  -1.12750904e-01  -6.59714102e-02\n",
      "  -4.74915382e-03   5.40491864e-02  -7.79931906e-02   6.40464942e-02\n",
      "   5.20047811e-02   5.74566187e-02  -5.43832632e-02  -1.41674737e-01\n",
      "  -1.58493468e-01   3.71036170e-02  -9.86896760e-02  -7.63027946e-02\n",
      "   2.15008012e-02  -1.08117847e-01   7.83621714e-02   8.48095545e-02\n",
      "  -1.27519997e-01   1.56913624e-01  -7.07652256e-02  -8.57203849e-02\n",
      "   2.65229884e-02   1.18776038e-01   3.46340675e-02  -1.21162143e-02\n",
      "  -8.57586477e-02   2.40276587e-03  -7.89615181e-02  -6.16355207e-02\n",
      "   9.64952032e-02  -4.45456707e-02   1.72427200e-02  -7.26010615e-02\n",
      "  -5.56982056e-02  -7.76650413e-02  -1.05238345e-01  -4.22272802e-02\n",
      "   1.09742987e-01   5.97467465e-02  -3.53644995e-02  -9.64383517e-03\n",
      "  -1.59486722e-01   7.00075027e-02  -2.03395045e-02   7.97068959e-03\n",
      "   5.91686309e-02  -2.90074314e-02  -1.25637892e-01  -8.66386294e-03\n",
      "  -7.04770907e-02   8.28386763e-02  -2.05545881e-02  -2.33078677e-01\n",
      "   6.70166949e-03   3.93961144e-02  -1.37232798e-01   7.36536163e-02\n",
      "   1.21538520e-01   2.20829030e-01  -3.26028166e-02  -5.78576772e-02\n",
      "  -1.04694210e-01   1.14243852e-01  -7.83428129e-02  -7.58012307e-02\n",
      "   1.05381180e-01  -3.14669580e-02  -9.75738322e-03  -1.07512944e-01\n",
      "  -1.18521453e-01   4.00522835e-02   4.85789783e-03   1.07274057e-01\n",
      "   1.59613841e-02  -1.23575957e-02  -6.15486595e-02  -2.33413090e-01\n",
      "   6.97730161e-02   6.73240050e-02  -1.08863674e-01  -4.48551379e-02\n",
      "   3.11563711e-02  -9.34623263e-02   1.16956624e-01  -5.83282338e-02\n",
      "   1.64014018e-01   8.91187041e-02   9.20010579e-02   4.74033140e-02]\n",
      "0.05723986467089654\n",
      "target values for D:\n",
      "[1 1 0 0 0 1 1 0 0 0 0 1 1 1 1 0 1 1 0 1 1 1 0 0 0 0 0 1 1 1 1 0 1 0 1 1 0\n",
      " 0 1 1 1 1 0 1 0 0 0 1 0 1 1 0 1 1 1 1 1 1 0 1 1 0 1 0 0 0 0 0 0 1 1 0 1 1\n",
      " 1 0 1 0 1 1 1 1 1 1 1 1 0 0 0 0 0 0 1 1 1 0 0 0 1 1 0 0 1 0 0 0 0 0 1 0 1\n",
      " 0 1 0 1 0 0 1 1 1 1 0 0 0 1 1 0 0 0 1 0 0 1 1 1 0 0 1 0 0 0 0 1 1 1 0 1 1\n",
      " 0 1 0 0 1 1 1 1 0 0 0 1 0 1 1 1 1 1 0 1 0 1 0 0 1 0 1 1 1 0 1 0 0 1 1 1 1\n",
      " 0 0 1 1 1 0 1 1 1 1 0 0 1 1 1 1 0 1 1 1 1 0 1 1 1 0 0 0 1 0 1 0 0 0 0 0 1\n",
      " 1 0 0 1 0 0 0 1 0 0 0 0 0 1 0 1 0 0 0 0 0 0 1 0 0 1 0 1 0 0 1 1 0 1 1 1 0\n",
      " 0 1 0 0 1 1 0 1 0 0 0 1 1 1 1 1 0 0 1 1 0 1 0 0 1 0 1 1 0 1 1 0 1 0 1 0 1\n",
      " 1 1 0 1 1 0 1 1 1 0 1 0 1 1 1 1 1 1 1 1 0 1 1 0 0 0 0 1 0 1 1 0 1 0 0 0 1\n",
      " 1 1 1 1 1 1 0 1 0 1 1 1 0 1 1 1 1 0 0 1 0 1 0 1 0 1 1 1 1 1 0 1 0 1 0 1 0\n",
      " 0 1 1 0 1 0 0 0 1 1 0 0 0 1 0 1 1 0 1 1 0 0 1 0 0 0 0 1 0 0]\n",
      "prediction on D:\n",
      "[1 1 0 0 0 1 1 0 0 0 0 1 1 1 1 0 1 1 0 1 1 1 0 0 0 0 0 1 1 1 1 0 1 0 1 1 0\n",
      " 0 1 1 1 1 0 1 0 0 0 1 0 1 1 0 1 1 1 1 1 1 0 1 1 0 1 0 0 0 0 0 0 1 1 0 1 1\n",
      " 1 0 1 0 1 1 1 1 1 1 1 1 0 0 0 0 0 0 1 1 1 0 0 0 1 1 0 0 1 0 0 0 0 0 1 0 1\n",
      " 0 1 0 1 0 0 1 1 1 1 0 0 0 1 1 0 0 0 1 0 0 1 1 1 0 0 1 0 0 0 0 1 1 1 0 1 1\n",
      " 0 1 0 0 1 1 1 1 0 0 0 1 0 1 1 1 1 1 0 1 0 1 0 0 1 0 1 1 1 0 1 0 0 1 1 1 1\n",
      " 0 0 1 1 1 0 1 1 1 1 0 0 1 1 1 1 0 1 1 1 1 0 1 1 1 0 0 0 1 0 1 0 0 0 0 0 1\n",
      " 1 0 0 1 0 0 0 1 0 0 0 0 0 1 0 1 0 0 0 0 0 0 1 0 0 1 0 1 0 0 1 1 0 1 1 1 0\n",
      " 0 1 0 0 1 1 0 1 0 0 0 1 1 1 1 1 0 0 1 1 0 1 0 0 1 0 1 1 0 1 1 0 1 0 1 0 1\n",
      " 1 1 0 1 1 0 1 1 1 0 1 0 1 1 1 1 1 1 1 1 0 1 1 0 0 0 0 1 0 1 1 0 1 0 0 0 1\n",
      " 1 1 1 1 1 1 0 1 0 1 1 1 0 1 1 1 1 0 0 1 0 1 0 1 0 1 1 1 1 1 0 1 0 1 0 1 0\n",
      " 0 1 1 0 1 0 0 0 1 1 0 0 0 1 0 1 1 0 1 1 0 0 1 0 0 0 0 1 0 0]\n"
     ]
    },
    {
     "name": "stdout",
     "output_type": "stream",
     "text": [
      "Initial model:\n",
      "[  1.35015741e+00   5.90697404e-01  -4.31974679e-01  -1.11285072e+00\n",
      "   1.80084284e+00  -1.40169105e+00   2.17947799e+00  -4.29710371e-01\n",
      "   7.52404144e-01   1.15375594e+00  -1.20908599e+00   5.70505370e-01\n",
      "   6.78864011e-01  -1.69574838e+00  -8.45369348e-01  -4.89722822e-01\n",
      "  -1.39895919e+00  -3.20040779e-02   3.65196216e-01  -2.61443594e-02\n",
      "  -5.30378885e-01   6.10659028e-01   8.00975439e-01   9.38864854e-01\n",
      "   1.26611255e+00   3.66821769e-01  -4.15414605e-01   5.15755189e-02\n",
      "   1.27545713e+00   2.19134168e-01  -1.80715842e+00  -1.30955809e+00\n",
      "   5.90151822e-01   1.10954178e+00  -1.92905906e+00  -6.02278615e-01\n",
      "  -7.44870586e-01   1.13984065e+00  -1.01973006e+00   3.86553613e-01\n",
      "   5.97405756e-01   1.21284228e-01  -5.49926318e-01   1.05678082e+00\n",
      "  -5.50056731e-01  -3.22905857e-01   9.50250386e-02   1.83619329e+00\n",
      "   4.10831839e-01   3.26949821e-01  -1.61826482e-01  -1.57916172e-01\n",
      "  -1.48099874e-01  -8.95887118e-01   1.56572239e+00   1.61005233e-02\n",
      "  -3.77032590e-01   2.04031833e+00  -2.17128025e+00  -1.17834024e+00\n",
      "  -1.05522698e+00  -7.35394665e-01   4.86030582e-01  -2.23348939e+00\n",
      "  -1.74626853e+00  -9.28643802e-01   4.82232887e-01   1.14380149e+00\n",
      "  -8.13530868e-01   1.33564422e+00   1.45711164e-02  -4.09593926e-01\n",
      "  -1.67715608e+00   2.30547639e+00   8.92393491e-01  -1.39991127e-01\n",
      "  -8.51984096e-01  -1.10770711e+00   9.85742812e-01   3.65238035e-01\n",
      "   7.02337123e-01   2.44747414e+00   4.32601274e-01   9.59062017e-01\n",
      "   8.04054300e-01  -7.64611204e-01  -1.11800249e+00   4.91925405e-01\n",
      "   2.07211932e-01   1.84545902e-01  -2.07313001e-01   2.18110885e-02\n",
      "  -9.35109248e-01  -2.57276620e-01  -1.34774501e+00  -1.37202447e+00\n",
      "  -1.25194830e+00  -2.21956299e+00  -7.75785280e-01  -5.74573266e-01\n",
      "  -2.23249810e+00   1.74527658e+00  -5.71414268e-01   6.34761737e-01\n",
      "   1.23449871e-01  -6.49380316e-01   1.58147854e+00   5.27922652e-01\n",
      "   9.76133646e-01  -5.39949404e-01  -3.19774585e-01   9.89736043e-02\n",
      "  -1.33952149e-01   1.22228212e+00   5.99020012e-01   1.63558802e+00\n",
      "   1.01466516e+00   9.53956675e-01   2.03530176e+00   9.35394069e-01\n",
      "   1.39762742e+00   1.54686828e+00  -1.05784424e+00  -1.22899582e-01\n",
      "   1.50199826e+00   1.08403613e+00   7.44640663e-01  -8.75625820e-01\n",
      "  -5.66453853e-02  -2.51319904e-01   1.48652020e+00  -1.11027085e-01\n",
      "   4.44708222e-01  -1.03309551e+00  -8.28363429e-01   1.82404595e+00\n",
      "   1.38765657e+00  -1.61573766e+00   1.23698846e+00   1.34559837e+00\n",
      "   6.51701577e-01   1.26983900e-01   8.00891574e-01  -1.94445585e+00\n",
      "  -4.39407474e-01   1.24265125e+00  -1.88805336e-01  -3.65481536e-02\n",
      "   1.14305664e+00  -1.77092968e+00   8.97145345e-01   6.78733207e-01\n",
      "  -8.83691996e-01   4.67182536e-01   2.60400254e-01  -8.31536339e-02\n",
      "   8.76778535e-01   8.09927102e-01   2.37023690e+00   1.24025485e+00\n",
      "   3.93347508e-01  -7.67177969e-01   2.29067705e+00  -6.23835336e-01\n",
      "  -4.23834187e-01  -1.41304938e+00   5.84329328e-01   1.97066673e+00\n",
      "  -2.36879008e+00  -1.63224272e-01  -7.29359848e-01  -1.30244610e+00\n",
      "  -8.93655121e-02  -7.85073426e-01  -4.98599687e-01  -2.09517920e-01\n",
      "  -4.69302417e-01   8.56079557e-01  -7.01776543e-02  -2.00287152e+00\n",
      "  -4.62023601e-01  -7.52700259e-01   7.41453615e-02  -9.53922694e-01\n",
      "   5.13275952e-01   7.57757719e-01   7.19771613e-01  -3.91941564e-01\n",
      "   8.35445155e-01   1.36103956e+00  -7.85317242e-01  -4.00674909e-01\n",
      "   6.10373300e-01   1.49867504e+00   6.00815015e-02   5.99081939e-01\n",
      "  -1.03482061e+00  -3.92561977e-02   1.67017858e-01  -7.96272827e-01\n",
      "  -1.74824502e+00   6.81602805e-01  -3.46094788e-01  -9.19925265e-01\n",
      "   1.15185048e+00   1.03911865e+00   2.07605071e-01  -3.68915112e-01\n",
      "   9.71984484e-01  -1.46743649e+00   1.34316600e-01   9.62312892e-01\n",
      "   8.11797500e-01  -5.20526890e-01   3.78096378e-01   1.21904497e-01\n",
      "   2.43397713e-01   1.95693496e+00  -1.51010904e-01   6.39318914e-01\n",
      "   4.66558841e-01   1.29881676e+00  -2.32952977e-01  -6.60037568e-01\n",
      "  -3.19763060e-01  -6.84575551e-01   5.25347367e-01  -3.04114796e-02\n",
      "  -1.52378487e+00   1.63947357e+00   1.18627178e-01  -8.33357908e-02\n",
      "  -1.46066927e+00  -1.26290361e+00   2.21495430e+00   5.51432302e-01\n",
      "   2.59672535e-01   1.08080135e+00   8.86811944e-01  -4.01620825e-01\n",
      "   7.59720399e-01  -5.12909938e-01   2.03851268e-01   5.82042931e-01\n",
      "  -3.26485300e-01   1.59560296e-01  -3.91697026e-01   1.12906094e+00\n",
      "  -5.20736339e-01   1.22062279e+00   1.92931605e+00   1.39116500e+00\n",
      "   9.91265476e-02  -1.04424424e-01  -1.73390759e+00  -3.75288702e-01\n",
      "  -9.05602797e-01   1.35456305e+00   2.24255068e-01  -2.72464567e+00\n",
      "   6.00169774e-01  -9.77571001e-01  -1.81021894e+00  -8.23382976e-01\n",
      "   3.36311591e-01  -3.63179746e-01  -1.26868203e+00   6.69179887e-01\n",
      "  -3.82901439e-01  -1.23559504e+00   8.32356710e-01  -2.63889407e+00\n",
      "  -1.95714367e+00  -3.02210256e-02  -3.59294156e-01  -1.38611557e+00\n",
      "  -1.82673595e+00   1.14446574e+00   1.48721934e+00   1.04788502e+00\n",
      "   2.01885795e-01  -6.16933521e-01   1.24579145e+00   8.65913334e-01\n",
      "  -1.28983088e-01   5.43381795e-01  -9.48728270e-01  -2.04259060e-01\n",
      "  -7.77342163e-01  -2.46778400e+00  -5.17108637e-01  -1.89227945e-01\n",
      "   4.68245796e-01  -2.94858710e+00   2.72069961e-01  -2.56331269e+00\n",
      "   4.17001490e-01   5.28378435e-01   2.24285637e-01   4.46781869e-01\n",
      "  -4.56252012e-01   2.61682570e-01  -3.76080255e-01  -5.51704545e-01\n",
      "  -1.50258561e+00  -1.09050220e+00   2.88345209e+00  -1.44031130e+00\n",
      "  -1.38209272e-01   1.63724650e-01  -1.79143981e+00   1.41850342e+00\n",
      "  -3.16661709e-01  -1.23735330e+00   2.25606946e+00  -5.13667135e-01\n",
      "  -1.49373277e+00   1.05435949e+00   6.08165947e-01   1.00330317e+00\n",
      "  -1.02472465e+00  -2.13608778e-01   4.09526469e-01  -4.30480003e-01\n",
      "   1.60322178e-01  -1.08882325e-02  -7.59465151e-01  -4.18034345e-01\n",
      "  -4.71815676e-01  -5.62486468e-01  -1.28040348e-01   6.29149160e-01\n",
      "  -1.00030868e+00  -3.14095201e-01   1.10154684e+00   1.05608865e+00\n",
      "   6.12668639e-01  -5.89610000e-01   7.32088912e-01   5.18640438e-01\n",
      "  -1.13721800e+00  -9.02437780e-01   1.08200561e+00  -9.51113445e-01\n",
      "  -4.92131428e-01  -1.36347484e+00  -1.97030265e-01   9.60061655e-01\n",
      "  -7.88124531e-01   3.94824387e-01  -1.82946889e-01   6.28463465e-02\n",
      "  -2.83734577e-01   1.66108949e+00   5.13505483e-02   3.02476586e-01\n",
      "   1.20047776e+00  -5.70705084e-01  -4.20948156e-01   2.00657815e+00\n",
      "   2.15196179e-01  -5.59270217e-01  -1.48559006e-01  -4.26758502e-02\n",
      "  -6.62505322e-01  -1.24013454e+00   6.73456647e-01   1.67474176e+00\n",
      "   7.95818765e-01   4.95686959e-01   3.79207262e-01  -4.78607875e-02\n",
      "  -1.00429914e+00  -1.93690427e-01  -8.24212514e-01   6.43561710e-01\n",
      "   1.64223184e+00  -6.04406363e-01  -1.14075424e+00  -2.26941464e+00\n",
      "  -1.60403828e+00  -1.30727798e-03  -7.67182291e-01   9.44959016e-01\n",
      "   8.15416179e-01  -7.73550990e-02   1.57923837e+00   4.60525335e-01\n",
      "  -2.41241466e+00  -1.05803415e+00   7.88366344e-01   4.23401348e-01\n",
      "   1.39075601e+00  -1.04232947e+00  -9.55059889e-01   2.28907314e+00\n",
      "   4.01225518e-02   2.83427252e-02  -5.68616677e-01   5.79505576e-01\n",
      "   1.77770472e-01  -4.65213927e-02  -2.97624948e-01  -1.00320577e-01\n",
      "  -6.17681655e-01  -5.77602721e-01   1.41800728e-01   2.00832444e+00\n",
      "   2.54572135e+00   2.26840221e+00   1.82081061e+00  -5.33427017e-01\n",
      "  -4.05897653e-01   2.08781949e+00   2.34719490e+00  -3.58501420e-01\n",
      "   4.19112902e-01  -1.39006692e+00  -4.40675230e-01   1.34615854e+00\n",
      "  -1.09741403e+00  -3.62572536e-01  -2.13723679e+00  -4.28105605e-01\n",
      "  -4.75719237e-01  -6.54396394e-01   2.80480412e-01  -7.81433137e-01\n",
      "   1.63103855e-01  -3.74656614e-01   4.11183224e-01   2.38061278e-01\n",
      "  -9.03283435e-01   4.00895506e-01   2.72189070e+00  -1.38592605e+00\n",
      "   7.61911526e-01  -6.68483707e-01  -8.29892826e-02   1.47428474e+00\n",
      "   4.28845775e-01  -3.06540136e-01   5.01794843e-01   1.26703481e+00\n",
      "   1.28979786e+00   4.90836494e-01   1.66811199e-01  -4.64066047e-01\n",
      "  -1.21715004e+00   3.10887232e-01   2.21504593e+00  -1.80107657e-01\n",
      "  -9.15207817e-01  -5.91262961e-01   1.75220141e-01  -1.85637612e+00\n",
      "  -1.45633655e+00   8.78395687e-03   8.65786162e-01   9.87517737e-01\n",
      "   7.09963183e-01  -3.13921264e-01  -1.26037373e+00   1.57286505e-01\n",
      "   8.35311031e-01  -1.46984698e+00   4.52460836e-03   1.79758122e+00\n",
      "   1.06813111e-01   9.00096382e-02  -5.68020083e-01   1.22561083e+00\n",
      "   6.20702071e-01   9.64937525e-01  -7.51822070e-01   4.88659262e-01\n",
      "   1.07025089e+00  -2.60769494e+00   1.30066564e-01  -1.00296476e+00\n",
      "  -1.63122110e+00  -1.05788365e+00   7.43939872e-01  -1.42958236e+00\n",
      "   4.85249232e-01  -6.72863112e-02  -8.35788994e-01   9.83533097e-01\n",
      "   3.48408151e-01   3.05273944e-01  -1.14411617e+00  -1.11384178e+00\n",
      "   6.25134350e-01   3.12568825e-01  -2.43216567e+00   2.22478350e-01\n",
      "  -4.51183805e-01   1.25237403e+00   3.13658783e-02  -7.14835046e-01\n",
      "   2.32516254e-01   7.93261586e-01  -1.22799954e+00   5.81724632e-02\n",
      "  -9.29629898e-03  -9.73907416e-01   2.78356545e+00  -1.79162346e-01\n",
      "   1.20676378e-01  -1.50701920e-02  -8.78775139e-01   8.06013641e-01\n",
      "  -3.81997615e-02  -3.48291877e-02   2.00683537e-01   4.71384859e-02\n",
      "  -7.60475992e-01  -1.46596192e+00  -1.71961830e+00  -6.35144673e-01\n",
      "   6.85960713e-01  -3.96901715e-01   2.30055859e-01  -1.02019763e+00\n",
      "   4.19915166e-01   2.28672808e+00   2.90788942e-01  -1.41257247e+00\n",
      "   6.07128558e-01   2.02770676e+00   1.53867353e+00   7.71176050e-01\n",
      "  -7.41845030e-01  -2.56472469e-01   1.92458619e-01  -9.13037793e-01\n",
      "   1.50364747e+00  -4.40857675e-02  -7.43427946e-02  -6.45097712e-01\n",
      "  -2.53909305e-01  -9.92514351e-01  -7.65903781e-01  -8.31759491e-01\n",
      "   9.58469187e-01  -4.07453186e-01   6.42322692e-01  -2.01830385e-01\n",
      "  -1.13839682e+00   1.03093382e-01   4.68554662e-01  -6.89300488e-01\n",
      "  -3.15856266e-01  -2.19702061e+00   9.82746321e-01   3.05346935e-01\n",
      "   1.68605588e+00  -1.10580135e+00  -1.55028902e+00  -5.25343317e-01\n",
      "   1.22351142e+00  -8.41948880e-01  -6.30386151e-01   1.30100258e+00\n",
      "   1.34324590e+00  -1.86251084e-01  -1.63723351e-01   1.28904799e+00\n",
      "  -1.09617213e-01   1.58888995e+00  -4.02208425e-01  -1.61088246e-01\n",
      "   2.04839798e+00  -9.59751645e-01   3.89435100e-01  -2.73870703e-01\n",
      "   1.75979309e-01   3.20901267e-01   1.55413192e-01   1.09846733e+00\n",
      "   1.00578814e+00   4.40578093e-01  -7.39175126e-01  -2.30132012e-01\n",
      "   1.25997619e+00  -9.33315358e-03   4.82887059e-01   8.13764473e-01\n",
      "   7.83494165e-01   8.22681381e-01   5.85141118e-01  -1.01816100e+00\n",
      "   9.99120896e-02  -1.17473103e-01   2.81175935e-01   6.00516334e-01\n",
      "   2.79178797e+00  -1.09530438e-01  -2.53050123e+00   7.68106496e-01\n",
      "  -6.51562088e-02   2.27343234e-01  -9.79248872e-01  -1.97677211e+00\n",
      "   4.02407665e-01   2.55355873e-01  -2.89166411e-01   3.61868989e-01\n",
      "  -7.78234640e-01  -1.52732922e+00  -9.13510128e-01   1.43474314e+00\n",
      "   3.81970658e-01   1.27072126e+00  -1.13062204e+00   3.17572683e-01\n",
      "  -2.37853802e-01  -2.10076255e+00  -3.15919373e-01   8.99032040e-01\n",
      "   5.71620811e-02  -3.84980670e-01   6.50686601e-01  -1.76276894e+00\n",
      "   3.34083822e+00   6.18248297e-01   4.36115847e-01  -6.17678365e-01\n",
      "  -6.63465034e-01  -3.35490173e-01  -1.99620928e-01  -5.51878453e-01\n",
      "   8.41358649e-01   7.23555420e-01   5.20971609e-01   4.66642879e-01\n",
      "  -2.83612485e-01  -4.48523014e-01  -1.69929467e-01  -6.25452703e-01\n",
      "  -1.59169644e-02   3.98785235e-01  -1.46124172e+00  -7.18704300e-02\n",
      "   1.66759028e+00   1.87181424e+00  -2.85965768e-01   4.64757516e-01\n",
      "   3.06604117e-01  -6.90161075e-01  -1.97909065e+00   4.46689810e-01\n",
      "   9.50370458e-01   1.45915683e-01   2.70531376e-01  -1.59248864e+00\n",
      "   7.13047161e-01  -5.91849224e-01  -6.78905430e-01  -2.52332517e+00\n",
      "   5.94361343e-01  -1.44806974e+00   1.46855942e-01   1.72518970e-01\n",
      "  -2.46651870e-01  -5.23446384e-01  -9.16718913e-01  -8.04318294e-01\n",
      "  -1.70890154e+00   1.09265980e-01   5.68051313e-01  -4.33360463e-01\n",
      "  -6.93619399e-01  -1.07225088e+00  -8.68330770e-01   1.61253927e+00\n",
      "   1.96793195e+00   1.00272603e-01  -1.90046996e+00   3.20352042e-01\n",
      "   8.38627956e-01  -2.66213832e-01   3.46392065e-01   2.69512863e-01\n",
      "  -5.86108687e-01  -3.52198464e-01  -3.21641098e-01   8.60392474e-01\n",
      "  -1.12762039e+00  -1.83536850e+00   3.51464082e-01   1.77145523e+00\n",
      "   8.86911783e-02  -1.05555662e+00   1.83125923e+00  -1.84140438e+00\n",
      "   2.53005968e-01  -2.20862304e+00  -5.64030250e-01   4.41124583e-01\n",
      "  -8.81819022e-01   1.87258404e+00  -2.73373824e-01  -7.73161203e-01\n",
      "  -3.84390395e-01  -2.00363686e+00  -7.56502914e-02   8.64802246e-01\n",
      "   1.09749702e+00   5.55797752e-02  -1.32368701e+00   2.91823047e-01\n",
      "  -2.39352673e+00   1.39112321e+00  -3.23077397e-01   7.68179757e-02\n",
      "   4.91324809e-01   2.24528777e-01   7.96529077e-01  -7.03183929e-01\n",
      "  -1.38007581e+00   4.05793389e-01   3.30395971e-01   1.16992044e-01\n",
      "   3.18162422e-01  -9.91966219e-01  -2.26976774e-01   1.00058536e+00\n",
      "   3.76014681e-01   3.86997631e-01  -7.10403014e-01   8.82295056e-01\n",
      "  -1.11177193e+00   3.48313121e-01  -5.20430095e-01   3.41210702e-01\n",
      "   2.59449448e-02   1.25532960e+00  -7.62358242e-01   5.87482241e-01\n",
      "   3.03554420e-01  -1.99548259e+00  -1.64722996e+00  -1.24728093e+00\n",
      "   1.00871066e+00   1.97544525e+00   4.18011068e-01  -4.20456956e-01\n",
      "   1.07110497e+00   6.22620055e-01   9.54295710e-01   1.44142738e+00\n",
      "   2.24407901e+00   1.45174123e-01  -4.61075450e-01   4.22209272e-01\n",
      "  -6.71900144e-01   4.32385386e-01   4.63969783e-01   7.67283164e-01\n",
      "  -6.14906134e-01  -2.02874014e+00   1.35670369e+00  -7.73770629e-01\n",
      "   2.80881127e-01  -1.26732790e+00   5.08207618e-01   2.20266261e+00\n",
      "   1.06320694e-01  -1.67420518e+00   1.40560536e+00  -6.48465725e-01\n",
      "   9.66328384e-01   2.96611243e-01   1.21231732e+00   1.09610155e+00\n",
      "   4.61552424e-02   2.21900180e-01  -5.13031431e-01  -1.88649824e+00\n",
      "   9.51900516e-01   4.78836366e-01   1.05811281e+00  -3.50083327e-01]\n",
      "0.0\n"
     ]
    }
   ],
   "source": [
    "import numpy\n",
    "import theano\n",
    "import theano.tensor as T\n",
    "rng = numpy.random\n",
    "\n",
    "N = 400                                   # training sample size\n",
    "feats = 784                               # number of input variables\n",
    "\n",
    "# generate a dataset: D = (input_values, target_class)\n",
    "D = (rng.randn(N, feats), rng.randint(size=N, low=0, high=2))\n",
    "training_steps = 10000\n",
    "\n",
    "# Declare Theano symbolic variables\n",
    "x = T.matrix(\"x\")\n",
    "y = T.vector(\"y\")\n",
    "\n",
    "# initialize the weight vector w randomly\n",
    "#\n",
    "# this and the following bias variable b\n",
    "# are shared so they keep their values\n",
    "# between training iterations (updates)\n",
    "w = theano.shared(rng.randn(feats), name=\"w\")\n",
    "\n",
    "# initialize the bias term\n",
    "b = theano.shared(0., name=\"b\")\n",
    "\n",
    "print(\"Initial model:\")\n",
    "print(w.get_value())\n",
    "print(b.get_value())\n",
    "\n",
    "# Construct Theano expression graph\n",
    "p_1 = 1 / (1 + T.exp(-T.dot(x, w) - b))   # Probability that target = 1\n",
    "prediction = p_1 > 0.5                    # The prediction thresholded\n",
    "xent = -y * T.log(p_1) - (1-y) * T.log(1-p_1) # Cross-entropy loss function\n",
    "cost = xent.mean() + 0.01 * (w ** 2).sum()# The cost to minimize\n",
    "gw, gb = T.grad(cost, [w, b])             # Compute the gradient of the cost\n",
    "                                          # w.r.t weight vector w and\n",
    "                                          # bias term b\n",
    "                                          # (we shall return to this in a\n",
    "                                          # following section of this tutorial)\n",
    "\n",
    "# Compile\n",
    "train = theano.function(\n",
    "          inputs=[x,y],\n",
    "          outputs=[prediction, xent],\n",
    "          updates=((w, w - 0.1 * gw), (b, b - 0.1 * gb)))\n",
    "predict = theano.function(inputs=[x], outputs=prediction)\n",
    "\n",
    "# Train\n",
    "for i in range(training_steps):\n",
    "    pred, err = train(D[0], D[1])\n",
    "\n",
    "print(\"Final model:\")\n",
    "print(w.get_value())\n",
    "print(b.get_value())\n",
    "print(\"target values for D:\")\n",
    "print(D[1])\n",
    "print(\"prediction on D:\")\n",
    "print(predict(D[0]))"
   ]
  },
  {
   "cell_type": "code",
   "execution_count": 0,
   "metadata": {
    "autoscroll": "json-false",
    "collapsed": false,
    "ein.tags": [
     "worksheet-0"
    ]
   },
   "outputs": [],
   "source": []
  }
 ],
 "metadata": {
  "kernelspec": {
   "display_name": "Python 3",
   "name": "python3"
  },
  "language_info": {
   "codemirror_mode": {
    "name": "ipython",
    "version": 3
   },
   "file_extension": ".py",
   "mimetype": "text/x-python",
   "name": "python",
   "nbconvert_exporter": "python",
   "pygments_lexer": "ipython3",
   "version": "3.5.1"
  },
  "name": "02_More Examples.ipynb"
 },
 "nbformat": 4,
 "nbformat_minor": 0
}
